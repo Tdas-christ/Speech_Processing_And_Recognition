{
  "cells": [
    {
      "cell_type": "markdown",
      "metadata": {
        "id": "view-in-github",
        "colab_type": "text"
      },
      "source": [
        "<a href=\"https://colab.research.google.com/github/Tdas-christ/Speech_Processing_And_Recognition/blob/main/2348569_SPR_Lab8.ipynb\" target=\"_parent\"><img src=\"https://colab.research.google.com/assets/colab-badge.svg\" alt=\"Open In Colab\"/></a>"
      ]
    },
    {
      "cell_type": "markdown",
      "source": [
        "This notebook implements the **Viterbi Algorithm**, a dynamic programming technique used to find the most likely sequence of hidden states (e.g., in a Hidden Markov Model) based on observed events.\n",
        "\n",
        "The implementation successfully reconstructs the most likely sequence of states ['/h/', '/e/', '/l/', '/o/'] given the observations [0, 1, 2, 3]. The probability of this sequence is 0.03704, indicating the joint likelihood of the sequence of states and observations under the given model parameters.\n",
        "\n",
        "This approach can be applied in speech recognition, bioinformatics, or any problem involving sequence prediction where the underlying states are hidden."
      ],
      "metadata": {
        "id": "tjsBuNTd_7U0"
      }
    },
    {
      "cell_type": "code",
      "execution_count": null,
      "metadata": {
        "id": "8AF7DNA1_kE1"
      },
      "outputs": [],
      "source": [
        "import numpy as np"
      ]
    },
    {
      "cell_type": "code",
      "execution_count": null,
      "metadata": {
        "id": "9quuiuIb_kE3"
      },
      "outputs": [],
      "source": [
        "def viterbi_algorithm(observations, states, start_prob, trans_prob, emis_prob):\n",
        "    \"\"\"\n",
        "    Implements the Viterbi Algorithm to find the most likely sequence of hidden states.\n",
        "\n",
        "    Args:\n",
        "        observations: List of observations.\n",
        "        states: List of states.\n",
        "        start_prob: Start probabilities for each state.\n",
        "        trans_prob: Transition probability matrix.\n",
        "        emis_prob: Emission probability matrix.\n",
        "\n",
        "    Returns:\n",
        "        most_likely_sequence: The most probable sequence of states.\n",
        "        max_probability: Probability of the most likely sequence.\n",
        "        most_likely_observations: The most probable sequence of observations.\n",
        "    \"\"\"\n",
        "    # Number of states and observations\n",
        "    n_states = len(states)\n",
        "    n_observations = len(observations)\n",
        "\n",
        "    # Initialize the dynamic programming table and backpointer\n",
        "    dp = np.zeros((n_states, n_observations))  # Stores probabilities\n",
        "    backpointer = np.zeros((n_states, n_observations), dtype=int)  # Stores paths\n",
        "\n",
        "    # Initialization step\n",
        "    for s in range(n_states):\n",
        "        dp[s, 0] = start_prob[s] * emis_prob[s, observations[0]]\n",
        "        backpointer[s, 0] = 0\n",
        "\n",
        "    # Recursion step\n",
        "    for t in range(1, n_observations):\n",
        "        for s in range(n_states):\n",
        "            probabilities = [dp[prev_s, t - 1] * trans_prob[prev_s, s] for prev_s in range(n_states)]\n",
        "            dp[s, t] = max(probabilities) * emis_prob[s, observations[t]]\n",
        "            backpointer[s, t] = np.argmax(probabilities)\n",
        "\n",
        "    # Termination step\n",
        "    max_probability = max(dp[:, -1])\n",
        "    last_state = np.argmax(dp[:, -1])\n",
        "\n",
        "    # Path reconstruction\n",
        "    most_likely_sequence = [last_state]\n",
        "    for t in range(n_observations - 1, 0, -1):\n",
        "        last_state = backpointer[last_state, t]\n",
        "        most_likely_sequence.insert(0, last_state)\n",
        "\n",
        "    # Observation sequence reconstruction\n",
        "    most_likely_observations = observations  # Observations remain unchanged in this setup\n",
        "\n",
        "    return most_likely_sequence, max_probability, most_likely_observations"
      ]
    },
    {
      "cell_type": "code",
      "execution_count": null,
      "metadata": {
        "id": "oPY0QAjP_kE4"
      },
      "outputs": [],
      "source": [
        "# Define the HMM parameters\n",
        "states = [\"/h/\", \"/e/\", \"/l/\", \"/o/\"]\n",
        "observations = [0, 1, 2, 3]  # Encoded as indices for O1, O2, O3, O4\n",
        "start_prob = [1.0, 0.0, 0.0, 0.0]\n",
        "trans_prob = np.array([\n",
        "    [0.0, 0.7, 0.3, 0.0],\n",
        "    [0.0, 0.2, 0.6, 0.2],\n",
        "    [0.0, 0.0, 0.3, 0.7],\n",
        "    [0.0, 0.0, 0.1, 0.9]\n",
        "])\n",
        "emis_prob = np.array([\n",
        "    [0.6, 0.2, 0.1, 0.1],\n",
        "    [0.1, 0.7, 0.1, 0.1],\n",
        "    [0.1, 0.1, 0.6, 0.2],\n",
        "    [0.2, 0.1, 0.2, 0.5]\n",
        "])"
      ]
    },
    {
      "cell_type": "code",
      "execution_count": null,
      "metadata": {
        "id": "ZYTOx1_p_kE4"
      },
      "outputs": [],
      "source": [
        "# Run the Viterbi Algorithm\n",
        "most_likely_sequence, max_probability, most_likely_observations = viterbi_algorithm(observations, states, start_prob, trans_prob, emis_prob)"
      ]
    },
    {
      "cell_type": "code",
      "execution_count": null,
      "metadata": {
        "id": "y9P7ajI9_kE4"
      },
      "outputs": [],
      "source": [
        "# Decode the state indices to state names\n",
        "decoded_sequence = [states[i] for i in most_likely_sequence]"
      ]
    },
    {
      "cell_type": "code",
      "execution_count": null,
      "metadata": {
        "id": "Zr7pvRgC_kE4",
        "outputId": "c91b8c66-06e2-4d7d-db2f-84da3194b9db"
      },
      "outputs": [
        {
          "name": "stdout",
          "output_type": "stream",
          "text": [
            "Most Likely Sequence of States: ['/h/', '/e/', '/l/', '/o/']\n",
            "Most Likely Sequence of Observations: [0, 1, 2, 3]\n",
            "Probability of the Most Likely Sequence: 0.03704399999999999\n"
          ]
        }
      ],
      "source": [
        "# Display the results\n",
        "print(\"Most Likely Sequence of States:\", decoded_sequence)\n",
        "print(\"Most Likely Sequence of Observations:\", most_likely_observations)\n",
        "print(\"Probability of the Most Likely Sequence:\", max_probability)"
      ]
    }
  ],
  "metadata": {
    "kernelspec": {
      "display_name": "Python 3",
      "language": "python",
      "name": "python3"
    },
    "language_info": {
      "codemirror_mode": {
        "name": "ipython",
        "version": 3
      },
      "file_extension": ".py",
      "mimetype": "text/x-python",
      "name": "python",
      "nbconvert_exporter": "python",
      "pygments_lexer": "ipython3",
      "version": "3.11.5"
    },
    "colab": {
      "provenance": [],
      "include_colab_link": true
    }
  },
  "nbformat": 4,
  "nbformat_minor": 0
}